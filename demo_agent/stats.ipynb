{
 "cells": [
  {
   "cell_type": "code",
   "execution_count": 50,
   "metadata": {},
   "outputs": [
    {
     "name": "stdout",
     "output_type": "stream",
     "text": [
      "Valid results:  125\n",
      "Invalid results:  0\n"
     ]
    }
   ],
   "source": [
    "import os\n",
    "import json\n",
    "\n",
    "dir_name = \"results-bid\"\n",
    "\n",
    "result_dirs = os.listdir(dir_name)\n",
    "\n",
    "valid_results = []\n",
    "invalid_results = []\n",
    "\n",
    "for _dir in result_dirs:\n",
    "    try:\n",
    "        with open(os.path.join(dir_name, _dir, \"summary_info.json\"), \"r\") as f:\n",
    "            res = json.load(f)\n",
    "            if res.get(\"stack_trace\", None) is None:\n",
    "                valid_results.append(res)\n",
    "            else:\n",
    "                invalid_results.append(res)\n",
    "    except:\n",
    "        pass\n",
    "            \n",
    "print(\"Valid results: \", len(valid_results))\n",
    "print(\"Invalid results: \", len(invalid_results))"
   ]
  },
  {
   "cell_type": "code",
   "execution_count": 51,
   "metadata": {},
   "outputs": [
    {
     "name": "stdout",
     "output_type": "stream",
     "text": [
      "Total reward:  92.0\n",
      "Average reward:  0.736\n"
     ]
    }
   ],
   "source": [
    "cum_rewards = 0\n",
    "\n",
    "for res in valid_results:\n",
    "    cum_rewards += res.get(\"cum_reward\", 0)\n",
    "\n",
    "print(\"Total reward: \", cum_rewards)\n",
    "print(\"Average reward: \", cum_rewards / len(valid_results))"
   ]
  },
  {
   "cell_type": "code",
   "execution_count": 52,
   "metadata": {},
   "outputs": [],
   "source": [
    "import shutil\n",
    "\n",
    "def remove_invalid():\n",
    "    \"\"\"\n",
    "    Remove invalid results \n",
    "    \"\"\"\n",
    "    for _dir in result_dirs:\n",
    "        try:\n",
    "            with open(os.path.join(dir_name, _dir, \"summary_info.json\"), \"r\") as f:\n",
    "                res = json.load(f)\n",
    "                if res.get(\"stack_trace\", None):\n",
    "                    shutil.rmtree(os.path.join(dir_name, _dir))\n",
    "        except:\n",
    "            pass\n",
    "        \n",
    "remove_invalid()\n"
   ]
  }
 ],
 "metadata": {
  "kernelspec": {
   "display_name": "osworld",
   "language": "python",
   "name": "python3"
  },
  "language_info": {
   "codemirror_mode": {
    "name": "ipython",
    "version": 3
   },
   "file_extension": ".py",
   "mimetype": "text/x-python",
   "name": "python",
   "nbconvert_exporter": "python",
   "pygments_lexer": "ipython3",
   "version": "3.10.14"
  }
 },
 "nbformat": 4,
 "nbformat_minor": 2
}
